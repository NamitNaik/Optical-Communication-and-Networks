{
  "nbformat": 4,
  "nbformat_minor": 0,
  "metadata": {
    "colab": {
      "name": "Link Power Budget.ipynb",
      "provenance": [],
      "collapsed_sections": [],
      "include_colab_link": true
    },
    "kernelspec": {
      "name": "python3",
      "display_name": "Python 3"
    }
  },
  "cells": [
    {
      "cell_type": "markdown",
      "metadata": {
        "id": "view-in-github",
        "colab_type": "text"
      },
      "source": [
        "<a href=\"https://colab.research.google.com/github/NamitNaik/Optical-Communication-and-Networks/blob/master/Link_Power_Budget.ipynb\" target=\"_parent\"><img src=\"https://colab.research.google.com/assets/colab-badge.svg\" alt=\"Open In Colab\"/></a>"
      ]
    },
    {
      "cell_type": "code",
      "metadata": {
        "id": "TFto-HSzEv7q",
        "colab": {
          "base_uri": "https://localhost:8080/",
          "height": 90
        },
        "outputId": "942cef0f-08ad-4f53-defc-95482007c06b"
      },
      "source": [
        "import numpy as np\n",
        "L=7                 #km              \n",
        "alpha=2.6           #db/km  \n",
        "no_splice=6\n",
        "splice_loss=0.5     #dB\n",
        "connector_loss=1.5  #dB\n",
        "pi=100e-6           #w\n",
        "pout_dBm=-41        #dBm\n",
        "safety_margin=6     #dB\n",
        "\n",
        "pi_dBm=10*(np.log10(100e-6/1e-3))\n",
        "print(\"Input Power (dBm)=\", pi_dBm)\n",
        "\n",
        "total_system_margin=pi_dBm-pout_dBm\n",
        "print(\"Total System Margin (dBm)=\", total_system_margin)\n",
        "\n",
        "total_link_loss=(alpha*L)+(no_splice*splice_loss)+connector_loss+safety_margin\n",
        "print(\"Total Link Loss=\", total_link_loss)\n",
        "\n",
        "excess_power_margin= total_system_margin-total_link_loss\n",
        "print(\"Excess Power Margin (dB)=\", excess_power_margin)"
      ],
      "execution_count": null,
      "outputs": [
        {
          "output_type": "stream",
          "text": [
            "Input Power (dBm)= -10.0\n",
            "Total System Margin (dBm)= 31.0\n",
            "Total Link Loss= 28.7\n",
            "Excess Power Margin (dB)= 2.3000000000000007\n"
          ],
          "name": "stdout"
        }
      ]
    }
  ]
}